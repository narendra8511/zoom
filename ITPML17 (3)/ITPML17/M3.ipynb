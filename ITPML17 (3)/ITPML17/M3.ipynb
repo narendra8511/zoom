{
 "cells": [
  {
   "cell_type": "markdown",
   "metadata": {},
   "source": [
    "# Module 3 : Performance measurements of Logistic regression and Linear regression algorithms"
   ]
  },
  {
   "cell_type": "code",
   "execution_count": 1,
   "metadata": {},
   "outputs": [],
   "source": [
    "#import library packages\n",
    "import pandas as p\n",
    "import matplotlib.pyplot as plt\n",
    "import seaborn as s\n",
    "import numpy as n"
   ]
  },
  {
   "cell_type": "code",
   "execution_count": 2,
   "metadata": {},
   "outputs": [],
   "source": [
    "#Load given dataset\n",
    "data = p.read_csv(\"Bitcoin.csv\")"
   ]
  },
  {
   "cell_type": "code",
   "execution_count": 3,
   "metadata": {},
   "outputs": [],
   "source": [
    "import warnings\n",
    "warnings.filterwarnings('ignore')"
   ]
  },
  {
   "cell_type": "code",
   "execution_count": 4,
   "metadata": {},
   "outputs": [],
   "source": [
    "df=data.dropna()"
   ]
  },
  {
   "cell_type": "code",
   "execution_count": 5,
   "metadata": {},
   "outputs": [
    {
     "data": {
      "text/html": [
       "<div>\n",
       "<style scoped>\n",
       "    .dataframe tbody tr th:only-of-type {\n",
       "        vertical-align: middle;\n",
       "    }\n",
       "\n",
       "    .dataframe tbody tr th {\n",
       "        vertical-align: top;\n",
       "    }\n",
       "\n",
       "    .dataframe thead th {\n",
       "        text-align: right;\n",
       "    }\n",
       "</style>\n",
       "<table border=\"1\" class=\"dataframe\">\n",
       "  <thead>\n",
       "    <tr style=\"text-align: right;\">\n",
       "      <th></th>\n",
       "      <th>Date</th>\n",
       "      <th>BTC price [USD]</th>\n",
       "      <th>n-transactions</th>\n",
       "      <th>fee [USD]</th>\n",
       "      <th>btc search trends</th>\n",
       "      <th>Gold price[USD]</th>\n",
       "      <th>SP500 close index</th>\n",
       "      <th>Oil WTI price[USD]</th>\n",
       "      <th>M2(Not seasonally adjusted)[1e+09 USD]</th>\n",
       "    </tr>\n",
       "  </thead>\n",
       "  <tbody>\n",
       "    <tr>\n",
       "      <th>0</th>\n",
       "      <td>2014-01-02</td>\n",
       "      <td>749.27</td>\n",
       "      <td>54770.0</td>\n",
       "      <td>0.18</td>\n",
       "      <td>8</td>\n",
       "      <td>1225.0</td>\n",
       "      <td>1831.98</td>\n",
       "      <td>95.14</td>\n",
       "      <td>11089.3</td>\n",
       "    </tr>\n",
       "    <tr>\n",
       "      <th>6</th>\n",
       "      <td>2014-01-08</td>\n",
       "      <td>790.00</td>\n",
       "      <td>61439.0</td>\n",
       "      <td>0.18</td>\n",
       "      <td>8</td>\n",
       "      <td>1225.3</td>\n",
       "      <td>1837.49</td>\n",
       "      <td>91.90</td>\n",
       "      <td>11089.3</td>\n",
       "    </tr>\n",
       "    <tr>\n",
       "      <th>12</th>\n",
       "      <td>2014-01-14</td>\n",
       "      <td>823.00</td>\n",
       "      <td>57378.0</td>\n",
       "      <td>0.22</td>\n",
       "      <td>8</td>\n",
       "      <td>1245.2</td>\n",
       "      <td>1838.88</td>\n",
       "      <td>92.15</td>\n",
       "      <td>11089.3</td>\n",
       "    </tr>\n",
       "    <tr>\n",
       "      <th>15</th>\n",
       "      <td>2014-01-17</td>\n",
       "      <td>817.15</td>\n",
       "      <td>59026.0</td>\n",
       "      <td>0.19</td>\n",
       "      <td>8</td>\n",
       "      <td>1251.7</td>\n",
       "      <td>1838.70</td>\n",
       "      <td>93.96</td>\n",
       "      <td>11089.3</td>\n",
       "    </tr>\n",
       "    <tr>\n",
       "      <th>21</th>\n",
       "      <td>2014-01-23</td>\n",
       "      <td>819.62</td>\n",
       "      <td>63576.0</td>\n",
       "      <td>0.19</td>\n",
       "      <td>8</td>\n",
       "      <td>1262.6</td>\n",
       "      <td>1828.46</td>\n",
       "      <td>97.23</td>\n",
       "      <td>11089.3</td>\n",
       "    </tr>\n",
       "  </tbody>\n",
       "</table>\n",
       "</div>"
      ],
      "text/plain": [
       "          Date  BTC price [USD]  n-transactions  fee [USD]  btc search trends  \\\n",
       "0   2014-01-02           749.27         54770.0       0.18                  8   \n",
       "6   2014-01-08           790.00         61439.0       0.18                  8   \n",
       "12  2014-01-14           823.00         57378.0       0.22                  8   \n",
       "15  2014-01-17           817.15         59026.0       0.19                  8   \n",
       "21  2014-01-23           819.62         63576.0       0.19                  8   \n",
       "\n",
       "    Gold price[USD]  SP500 close index  Oil WTI price[USD]  \\\n",
       "0            1225.0            1831.98               95.14   \n",
       "6            1225.3            1837.49               91.90   \n",
       "12           1245.2            1838.88               92.15   \n",
       "15           1251.7            1838.70               93.96   \n",
       "21           1262.6            1828.46               97.23   \n",
       "\n",
       "    M2(Not seasonally adjusted)[1e+09 USD]  \n",
       "0                                  11089.3  \n",
       "6                                  11089.3  \n",
       "12                                 11089.3  \n",
       "15                                 11089.3  \n",
       "21                                 11089.3  "
      ]
     },
     "execution_count": 5,
     "metadata": {},
     "output_type": "execute_result"
    }
   ],
   "source": [
    "df.head()"
   ]
  },
  {
   "cell_type": "code",
   "execution_count": 6,
   "metadata": {},
   "outputs": [
    {
     "data": {
      "text/plain": [
       "Index(['Date', 'BTC price [USD]', 'n-transactions', 'fee [USD]',\n",
       "       'btc search trends', 'Gold price[USD]', 'SP500 close index',\n",
       "       'Oil WTI price[USD]', 'M2(Not seasonally adjusted)[1e+09 USD]'],\n",
       "      dtype='object')"
      ]
     },
     "execution_count": 6,
     "metadata": {},
     "output_type": "execute_result"
    }
   ],
   "source": [
    "df.columns"
   ]
  },
  {
   "cell_type": "code",
   "execution_count": 7,
   "metadata": {},
   "outputs": [],
   "source": [
    "df.rename(columns={\"BTC price [USD]\":\"BTC_price_USD\"},inplace=True)\n",
    "df.rename(columns={\"n-transactions\":\"n_transactions\"},inplace=True)\n",
    "df.rename(columns={\"fee [USD]\":\"fee_USD\"},inplace=True)\n",
    "df.rename(columns={\"btc search trends\":\"btc_search_trends\"},inplace=True)\n",
    "df.rename(columns={\"Gold price[USD]\":\"Gold_price_USD\"},inplace=True)\n",
    "df.rename(columns={\"SP500 close index\":\"SP500_close_index\"},inplace=True)\n",
    "df.rename(columns={\"Oil WTI price[USD]\":\"Oil_WTI_price_USD\"},inplace=True)\n",
    "df.rename(columns={\"M2(Not seasonally adjusted)[1e+09 USD]\":\"M2_money_supply_USA\"},inplace=True)"
   ]
  },
  {
   "cell_type": "code",
   "execution_count": 8,
   "metadata": {},
   "outputs": [
    {
     "name": "stdout",
     "output_type": "stream",
     "text": [
      "<class 'pandas.core.frame.DataFrame'>\n",
      "Int64Index: 1002 entries, 0 to 2309\n",
      "Data columns (total 9 columns):\n",
      " #   Column               Non-Null Count  Dtype  \n",
      "---  ------               --------------  -----  \n",
      " 0   Date                 1002 non-null   object \n",
      " 1   BTC_price_USD        1002 non-null   float64\n",
      " 2   n_transactions       1002 non-null   float64\n",
      " 3   fee_USD              1002 non-null   float64\n",
      " 4   btc_search_trends    1002 non-null   int64  \n",
      " 5   Gold_price_USD       1002 non-null   float64\n",
      " 6   SP500_close_index    1002 non-null   float64\n",
      " 7   Oil_WTI_price_USD    1002 non-null   float64\n",
      " 8   M2_money_supply_USA  1002 non-null   float64\n",
      "dtypes: float64(7), int64(1), object(1)\n",
      "memory usage: 78.3+ KB\n"
     ]
    }
   ],
   "source": [
    "df.info()"
   ]
  },
  {
   "cell_type": "code",
   "execution_count": 9,
   "metadata": {},
   "outputs": [],
   "source": [
    "del df['Date']\n",
    "\n"
   ]
  },
  {
   "cell_type": "code",
   "execution_count": 10,
   "metadata": {},
   "outputs": [
    {
     "data": {
      "text/plain": [
       "Index(['BTC_price_USD', 'n_transactions', 'fee_USD', 'btc_search_trends',\n",
       "       'Gold_price_USD', 'SP500_close_index', 'Oil_WTI_price_USD',\n",
       "       'M2_money_supply_USA'],\n",
       "      dtype='object')"
      ]
     },
     "execution_count": 10,
     "metadata": {},
     "output_type": "execute_result"
    }
   ],
   "source": [
    "df.columns"
   ]
  },
  {
   "cell_type": "code",
   "execution_count": 11,
   "metadata": {},
   "outputs": [
    {
     "data": {
      "text/html": [
       "<div>\n",
       "<style scoped>\n",
       "    .dataframe tbody tr th:only-of-type {\n",
       "        vertical-align: middle;\n",
       "    }\n",
       "\n",
       "    .dataframe tbody tr th {\n",
       "        vertical-align: top;\n",
       "    }\n",
       "\n",
       "    .dataframe thead th {\n",
       "        text-align: right;\n",
       "    }\n",
       "</style>\n",
       "<table border=\"1\" class=\"dataframe\">\n",
       "  <thead>\n",
       "    <tr style=\"text-align: right;\">\n",
       "      <th></th>\n",
       "      <th>BTC_price_USD</th>\n",
       "      <th>n_transactions</th>\n",
       "      <th>fee_USD</th>\n",
       "      <th>btc_search_trends</th>\n",
       "      <th>Gold_price_USD</th>\n",
       "      <th>SP500_close_index</th>\n",
       "      <th>Oil_WTI_price_USD</th>\n",
       "      <th>M2_money_supply_USA</th>\n",
       "    </tr>\n",
       "  </thead>\n",
       "  <tbody>\n",
       "    <tr>\n",
       "      <th>0</th>\n",
       "      <td>749.27</td>\n",
       "      <td>54770.0</td>\n",
       "      <td>0.18</td>\n",
       "      <td>8</td>\n",
       "      <td>1225.0</td>\n",
       "      <td>1831.98</td>\n",
       "      <td>95.14</td>\n",
       "      <td>11089.3</td>\n",
       "    </tr>\n",
       "    <tr>\n",
       "      <th>6</th>\n",
       "      <td>790.00</td>\n",
       "      <td>61439.0</td>\n",
       "      <td>0.18</td>\n",
       "      <td>8</td>\n",
       "      <td>1225.3</td>\n",
       "      <td>1837.49</td>\n",
       "      <td>91.90</td>\n",
       "      <td>11089.3</td>\n",
       "    </tr>\n",
       "    <tr>\n",
       "      <th>12</th>\n",
       "      <td>823.00</td>\n",
       "      <td>57378.0</td>\n",
       "      <td>0.22</td>\n",
       "      <td>8</td>\n",
       "      <td>1245.2</td>\n",
       "      <td>1838.88</td>\n",
       "      <td>92.15</td>\n",
       "      <td>11089.3</td>\n",
       "    </tr>\n",
       "    <tr>\n",
       "      <th>15</th>\n",
       "      <td>817.15</td>\n",
       "      <td>59026.0</td>\n",
       "      <td>0.19</td>\n",
       "      <td>8</td>\n",
       "      <td>1251.7</td>\n",
       "      <td>1838.70</td>\n",
       "      <td>93.96</td>\n",
       "      <td>11089.3</td>\n",
       "    </tr>\n",
       "    <tr>\n",
       "      <th>21</th>\n",
       "      <td>819.62</td>\n",
       "      <td>63576.0</td>\n",
       "      <td>0.19</td>\n",
       "      <td>8</td>\n",
       "      <td>1262.6</td>\n",
       "      <td>1828.46</td>\n",
       "      <td>97.23</td>\n",
       "      <td>11089.3</td>\n",
       "    </tr>\n",
       "  </tbody>\n",
       "</table>\n",
       "</div>"
      ],
      "text/plain": [
       "    BTC_price_USD  n_transactions  fee_USD  btc_search_trends  Gold_price_USD  \\\n",
       "0          749.27         54770.0     0.18                  8          1225.0   \n",
       "6          790.00         61439.0     0.18                  8          1225.3   \n",
       "12         823.00         57378.0     0.22                  8          1245.2   \n",
       "15         817.15         59026.0     0.19                  8          1251.7   \n",
       "21         819.62         63576.0     0.19                  8          1262.6   \n",
       "\n",
       "    SP500_close_index  Oil_WTI_price_USD  M2_money_supply_USA  \n",
       "0             1831.98              95.14              11089.3  \n",
       "6             1837.49              91.90              11089.3  \n",
       "12            1838.88              92.15              11089.3  \n",
       "15            1838.70              93.96              11089.3  \n",
       "21            1828.46              97.23              11089.3  "
      ]
     },
     "execution_count": 11,
     "metadata": {},
     "output_type": "execute_result"
    }
   ],
   "source": [
    "df.head()"
   ]
  },
  {
   "cell_type": "code",
   "execution_count": 12,
   "metadata": {},
   "outputs": [
    {
     "data": {
      "text/html": [
       "<div>\n",
       "<style scoped>\n",
       "    .dataframe tbody tr th:only-of-type {\n",
       "        vertical-align: middle;\n",
       "    }\n",
       "\n",
       "    .dataframe tbody tr th {\n",
       "        vertical-align: top;\n",
       "    }\n",
       "\n",
       "    .dataframe thead th {\n",
       "        text-align: right;\n",
       "    }\n",
       "</style>\n",
       "<table border=\"1\" class=\"dataframe\">\n",
       "  <thead>\n",
       "    <tr style=\"text-align: right;\">\n",
       "      <th></th>\n",
       "      <th>BTC_price_USD</th>\n",
       "      <th>n_transactions</th>\n",
       "      <th>fee_USD</th>\n",
       "      <th>btc_search_trends</th>\n",
       "      <th>Gold_price_USD</th>\n",
       "      <th>SP500_close_index</th>\n",
       "      <th>Oil_WTI_price_USD</th>\n",
       "      <th>M2_money_supply_USA</th>\n",
       "    </tr>\n",
       "  </thead>\n",
       "  <tbody>\n",
       "    <tr>\n",
       "      <th>2303</th>\n",
       "      <td>7130.99</td>\n",
       "      <td>329045.0</td>\n",
       "      <td>0.91</td>\n",
       "      <td>16</td>\n",
       "      <td>1745.4</td>\n",
       "      <td>2797.80</td>\n",
       "      <td>15.06</td>\n",
       "      <td>17269.8</td>\n",
       "    </tr>\n",
       "    <tr>\n",
       "      <th>2304</th>\n",
       "      <td>7477.60</td>\n",
       "      <td>320055.0</td>\n",
       "      <td>0.87</td>\n",
       "      <td>16</td>\n",
       "      <td>1735.6</td>\n",
       "      <td>2836.74</td>\n",
       "      <td>15.99</td>\n",
       "      <td>17269.8</td>\n",
       "    </tr>\n",
       "    <tr>\n",
       "      <th>2307</th>\n",
       "      <td>7699.27</td>\n",
       "      <td>311217.0</td>\n",
       "      <td>0.69</td>\n",
       "      <td>16</td>\n",
       "      <td>1723.8</td>\n",
       "      <td>2878.48</td>\n",
       "      <td>12.17</td>\n",
       "      <td>17269.8</td>\n",
       "    </tr>\n",
       "    <tr>\n",
       "      <th>2308</th>\n",
       "      <td>7790.66</td>\n",
       "      <td>323475.0</td>\n",
       "      <td>0.66</td>\n",
       "      <td>16</td>\n",
       "      <td>1722.2</td>\n",
       "      <td>2863.39</td>\n",
       "      <td>12.40</td>\n",
       "      <td>17269.8</td>\n",
       "    </tr>\n",
       "    <tr>\n",
       "      <th>2309</th>\n",
       "      <td>7765.33</td>\n",
       "      <td>331401.0</td>\n",
       "      <td>1.30</td>\n",
       "      <td>16</td>\n",
       "      <td>1713.4</td>\n",
       "      <td>2939.51</td>\n",
       "      <td>15.04</td>\n",
       "      <td>17269.8</td>\n",
       "    </tr>\n",
       "  </tbody>\n",
       "</table>\n",
       "</div>"
      ],
      "text/plain": [
       "      BTC_price_USD  n_transactions  fee_USD  btc_search_trends  \\\n",
       "2303        7130.99        329045.0     0.91                 16   \n",
       "2304        7477.60        320055.0     0.87                 16   \n",
       "2307        7699.27        311217.0     0.69                 16   \n",
       "2308        7790.66        323475.0     0.66                 16   \n",
       "2309        7765.33        331401.0     1.30                 16   \n",
       "\n",
       "      Gold_price_USD  SP500_close_index  Oil_WTI_price_USD  \\\n",
       "2303          1745.4            2797.80              15.06   \n",
       "2304          1735.6            2836.74              15.99   \n",
       "2307          1723.8            2878.48              12.17   \n",
       "2308          1722.2            2863.39              12.40   \n",
       "2309          1713.4            2939.51              15.04   \n",
       "\n",
       "      M2_money_supply_USA  \n",
       "2303              17269.8  \n",
       "2304              17269.8  \n",
       "2307              17269.8  \n",
       "2308              17269.8  \n",
       "2309              17269.8  "
      ]
     },
     "execution_count": 12,
     "metadata": {},
     "output_type": "execute_result"
    }
   ],
   "source": [
    "df.tail()"
   ]
  },
  {
   "cell_type": "code",
   "execution_count": 13,
   "metadata": {},
   "outputs": [],
   "source": [
    "\n",
    "from sklearn.metrics import mean_absolute_error,mean_squared_error,r2_score,explained_variance_score,median_absolute_error"
   ]
  },
  {
   "cell_type": "code",
   "execution_count": 14,
   "metadata": {},
   "outputs": [],
   "source": [
    "X = df.drop(labels='BTC_price_USD', axis=1)\n",
    "#Response variable\n",
    "y = df.loc[:,'BTC_price_USD']    "
   ]
  },
  {
   "cell_type": "code",
   "execution_count": 15,
   "metadata": {},
   "outputs": [],
   "source": [
    "\n",
    "#We'll use a test size of 30%. We also stratify the split on the response variable, which is very important to do because there are so few fraudulent transactions.\n",
    "from sklearn.model_selection import train_test_split\n",
    "X_train, X_test, y_train, y_test = train_test_split(X, y, test_size=0.3)"
   ]
  },
  {
   "cell_type": "markdown",
   "metadata": {},
   "source": [
    "# LinearRegression"
   ]
  },
  {
   "cell_type": "code",
   "execution_count": 16,
   "metadata": {},
   "outputs": [
    {
     "name": "stdout",
     "output_type": "stream",
     "text": [
      "MEAN ABSOLUTE ERROR VALUE IS : 1067.2353549011561\n",
      " \n",
      "MEAN SQUARED ERROR VALUE IS : 1902495.778078313\n",
      " \n",
      "MEDIAN ABSOLUTE ERROR VALUE IS : 918.413006370537\n",
      " \n",
      "ACCURACY RESULT OF LINEAR REGRESSION IS : 87.15064247291966\n",
      " \n",
      "R2_SCORE VALUE IS : 0.8707448052684265\n",
      " \n"
     ]
    }
   ],
   "source": [
    "from sklearn.linear_model import LinearRegression\n",
    "linR= LinearRegression()\n",
    "linR.fit(X_train,y_train)\n",
    "\n",
    "predictL = linR.predict(X_test)\n",
    "\n",
    "MAE= (mean_absolute_error(y_test,predictL))\n",
    "print('MEAN ABSOLUTE ERROR VALUE IS :',MAE)\n",
    "print(\" \")\n",
    "\n",
    "MSE=(mean_squared_error(y_test,predictL))\n",
    "print('MEAN SQUARED ERROR VALUE IS :',MSE)\n",
    "print(\" \")\n",
    "\n",
    "MedianAE=(median_absolute_error(y_test,predictL))\n",
    "print('MEDIAN ABSOLUTE ERROR VALUE IS :',MedianAE)\n",
    "print(\" \")\n",
    "\n",
    "EVS=(explained_variance_score(y_test,predictL)*100)\n",
    "print('ACCURACY RESULT OF LINEAR REGRESSION IS :',EVS)\n",
    "print(\" \")\n",
    "\n",
    "R2=(r2_score(y_test,predictL))\n",
    "print('R2_SCORE VALUE IS :',R2)\n",
    "print(\" \")\n"
   ]
  },
  {
   "cell_type": "markdown",
   "metadata": {},
   "source": [
    "# GradientBoostingRegressor"
   ]
  },
  {
   "cell_type": "code",
   "execution_count": 17,
   "metadata": {},
   "outputs": [
    {
     "name": "stdout",
     "output_type": "stream",
     "text": [
      "MEAN ABSOLUTE ERROR VALUE IS : 373.78721511434054\n",
      " \n",
      "MEAN SQUARED ERROR VALUE IS : 341418.86746489047\n",
      " \n",
      "MEDIAN ABSOLUTE ERROR VALUE IS : 203.53474726439526\n",
      " \n",
      "ACCURACY RESULT OF GradientBoostingRegressor IS : 97.69316837085633\n",
      " \n",
      "R2_SCORE VALUE IS : 0.9768040682624889\n",
      " \n"
     ]
    }
   ],
   "source": [
    "from sklearn.ensemble import GradientBoostingRegressor\n",
    "gb= GradientBoostingRegressor()\n",
    "gb.fit(X_train,y_train)\n",
    "\n",
    "predictgb = gb.predict(X_test)\n",
    "\n",
    "MAE= (mean_absolute_error(y_test,predictgb))\n",
    "print('MEAN ABSOLUTE ERROR VALUE IS :',MAE)\n",
    "print(\" \")\n",
    "\n",
    "MSE=(mean_squared_error(y_test,predictgb))\n",
    "print('MEAN SQUARED ERROR VALUE IS :',MSE)\n",
    "print(\" \")\n",
    "\n",
    "MedianAE=(median_absolute_error(y_test,predictgb))\n",
    "print('MEDIAN ABSOLUTE ERROR VALUE IS :',MedianAE)\n",
    "print(\" \")\n",
    "\n",
    "EVS=(explained_variance_score(y_test,predictgb)*100)\n",
    "print('ACCURACY RESULT OF GradientBoostingRegressor IS :',EVS)\n",
    "print(\" \")\n",
    "\n",
    "R2=(r2_score(y_test,predictgb))\n",
    "print('R2_SCORE VALUE IS :',R2)\n",
    "print(\" \")\n",
    "\n"
   ]
  },
  {
   "cell_type": "code",
   "execution_count": 18,
   "metadata": {},
   "outputs": [
    {
     "name": "stdout",
     "output_type": "stream",
     "text": [
      "Coefficients: \n",
      " [-4.29804733e-03  1.00667769e+02  9.41760703e+01  4.37478207e+00\n",
      "  5.78890903e+00  2.42708923e+01  3.40684207e-01]\n",
      "Variance score: 0.8707448052684265\n"
     ]
    },
    {
     "data": {
      "image/png": "[encoded data removed]",
      "text/plain": [
       "<Figure size 432x288 with 1 Axes>"
      ]
     },
     "metadata": {},
     "output_type": "display_data"
    }
   ],
   "source": [
    "from sklearn.linear_model import LinearRegression\n",
    "reg= LinearRegression()\n",
    "reg.fit(X_train, y_train)\n",
    "print('Coefficients: \\n', reg.coef_)\n",
    "print('Variance score: {}'.format(reg.score(X_test, y_test)))\n",
    "plt.style.use('fivethirtyeight')\n",
    "plt.scatter(reg.predict(X_train), reg.predict(X_train) - y_train,\n",
    "   color = \"green\", s = 10, label = 'Train data')\n",
    "plt.scatter(reg.predict(X_test), reg.predict(X_test) - y_test,\n",
    "   color = \"blue\", s = 10, label = 'Test data')\n",
    "plt.hlines(y = 0, xmin = 0, xmax = 50, linewidth = 2)\n",
    "plt.legend(loc = 'upper right')\n",
    "plt.title(\"Residual errors\")\n",
    "plt.show()"
   ]
  },
  {
   "cell_type": "code",
   "execution_count": null,
   "metadata": {},
   "outputs": [],
   "source": []
  }
 ],
 "metadata": {
  "kernelspec": {
   "display_name": "Python 3 (ipykernel)",
   "language": "python",
   "name": "python3"
  },
  "language_info": {
   "codemirror_mode": {
    "name": "ipython",
    "version": 3
   },
   "file_extension": ".py",
   "mimetype": "text/x-python",
   "name": "python",
   "nbconvert_exporter": "python",
   "pygments_lexer": "ipython3",
   "version": "3.8.11"
  }
 },
 "nbformat": 4,
 "nbformat_minor": 2
}
